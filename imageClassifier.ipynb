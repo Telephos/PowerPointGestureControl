{
  "cells": [
    {
      "cell_type": "markdown",
      "metadata": {
        "id": "zgs3ABkNrNvp"
      },
      "source": [
        "To use the project, make sure to run the first three sets of code each time you open the colab. \n",
        "\n",
        "It is also important to run the code block that defines get_frame_number(). You can find it under a big text block that has a long blue URL at the end.\n",
        "\n",
        "For adding to the 'left','right'and 'null' directories, look for the text blocks that talk about adding 100 frames to those directories, and run those 3 snippets."
      ]
    },
    {
      "cell_type": "markdown",
      "metadata": {
        "id": "NvbFC1Jsb0b5"
      },
      "source": [
        "#This mounts the files from your google drive into the following directory\n",
        "\n",
        "content->drive->MyDrive->CEN5727 - HCI Project"
      ]
    },
    {
      "cell_type": "code",
      "execution_count": null,
      "metadata": {
        "colab": {
          "base_uri": "https://localhost:8080/"
        },
        "id": "iwLQqZO2gUi0",
        "outputId": "2be25ae8-b793-4fe8-8b38-98ab1293c45a"
      },
      "outputs": [
        {
          "output_type": "stream",
          "name": "stdout",
          "text": [
            "Mounted at /SharedDrives\n"
          ]
        }
      ],
      "source": [
        "from google.colab import drive\n",
        "drive.mount('/SharedDrives')"
      ]
    },
    {
      "cell_type": "markdown",
      "metadata": {
        "id": "69sKn4v7QwFB"
      },
      "source": [
        "#This next line will put you in the root of our project folder"
      ]
    },
    {
      "cell_type": "code",
      "execution_count": null,
      "metadata": {
        "colab": {
          "base_uri": "https://localhost:8080/"
        },
        "id": "QJyg_Od2dPwO",
        "outputId": "05050daf-f3e2-419e-b320-834f97de76aa"
      },
      "outputs": [
        {
          "name": "stdout",
          "output_type": "stream",
          "text": [
            "/SharedDrives/.shortcut-targets-by-id/1rb6ApsTN377Q22zZoxKBzvRlXNcjYUFp/Colab Notebooks\n"
          ]
        }
      ],
      "source": [
        "%cd /SharedDrives/MyDrive/Colab Notebooks"
      ]
    },
    {
      "cell_type": "markdown",
      "metadata": {
        "id": "RM32g4oR2gdV"
      },
      "source": [
        "#List of libraries used. Chunks include the needed libraries in each respective chunk."
      ]
    },
    {
      "cell_type": "code",
      "execution_count": null,
      "metadata": {
        "id": "wU8NQyRv2vdm"
      },
      "outputs": [],
      "source": [
        "import os\n",
        "import os.path\n",
        "import cv2\n",
        "import time\n",
        "import shutil\n",
        "import glob\n",
        "import random\n",
        "import numpy as np\n",
        "import h5py\n",
        "\n",
        "from IPython.display import display, Javascript\n",
        "from google.colab.output import eval_js\n",
        "from base64 import b64decode\n",
        "from distutils.dir_util import copy_tree\n",
        "from keras.preprocessing import image\n",
        "from keras.models import Sequential\n",
        "from keras.models import load_model"
      ]
    },
    {
      "cell_type": "markdown",
      "metadata": {
        "id": "iIG9-tg31eNx"
      },
      "source": [
        "#Include all dependancies here. Only need to be run once and google collab will maintain the installation."
      ]
    },
    {
      "cell_type": "code",
      "execution_count": null,
      "metadata": {
        "id": "EVRre4Iv1mAw"
      },
      "outputs": [],
      "source": [
        "!pip install opencv-python\n",
        "!pip install keras\n",
        "!pip install tensorflow"
      ]
    },
    {
      "cell_type": "markdown",
      "metadata": {
        "id": "jr3kker3b0cF"
      },
      "source": [
        "#Making the directories where the images will be stored"
      ]
    },
    {
      "cell_type": "code",
      "execution_count": null,
      "metadata": {
        "id": "nx9J-gHPb0cG"
      },
      "outputs": [],
      "source": [
        "import os\n",
        "\n",
        "directories = ['right', 'left', 'null'] #3 classifications initially\n",
        "\n",
        "parent_dir = os.getcwd() #Current directory\n",
        "print(parent_dir)  \n",
        "\n",
        "#\n",
        "for i in range(3):\n",
        "    path = os.path.join(parent_dir, directories[i])\n",
        "    try: \n",
        "        os.mkdir(path)\n",
        "    except OSError as error:\n",
        "        print(error)\n",
        "        \n",
        "    print(\"Directory '% s' created\" % directories[i])"
      ]
    },
    {
      "cell_type": "markdown",
      "metadata": {
        "id": "iGrpHKhGuLQW"
      },
      "source": [
        "#randomizer from kev\n"
      ]
    },
    {
      "cell_type": "code",
      "execution_count": null,
      "metadata": {
        "id": "CUfCstPEo_3D"
      },
      "outputs": [],
      "source": [
        "#Little script that checks last value and creates variable called \"last number.\"\"\n",
        "import os,os.path\n",
        "\n",
        "null_frame_number=0\n",
        "left_frame_number=0\n",
        "rigth_frame_number=0\n",
        "\n",
        "\n",
        "def get_frame_numbers():\n",
        "  #we will still need to add +1 to these variables later in the code\n",
        "  #but this function should count how many files are in a folder, and that number\n",
        "  #would be exactly what the last frame was, ie it would be 99 if the hightest \n",
        "  #frame number in\n",
        "  global left_frame_number\n",
        "  global right_frame_number\n",
        "  global null_frame_number\n",
        "  %cd /SharedDrives/MyDrive/Colab\\ Notebooks/left\n",
        "  %pwd #print workingdirectory\n",
        "  left_frame_number = (len([name for name in os.listdir('.') if os.path.isfile(name)])) #line from stack overflow\n",
        "  print (\"^LEFT has this many frames: \", left_frame_number)\n",
        "  %cd /SharedDrives/MyDrive/Colab\\ Notebooks/right\n",
        "  %pwd #print workingdirectory\n",
        "  right_frame_number = (len([name for name in os.listdir('.') if os.path.isfile(name)])) #line from stack overflow\n",
        "  print (\"^RIGHT has this many frames: \", right_frame_number)\n",
        "  %cd /SharedDrives/MyDrive/Colab\\ Notebooks/null\n",
        "  %pwd #print workingdirectory\n",
        "  null_frame_number = (len([name for name in os.listdir('.') if os.path.isfile(name)])) #line from stack overflow\n",
        "  print (\"^NULL has this many frames: \", null_frame_number)\n",
        "  #now we need to return to our previous working directory, sort of a 'clean-up' step\n",
        "  %cd /SharedDrives/MyDrive/Colab\\ Notebooks/\n",
        "\n",
        "#test the function\n",
        "get_frame_numbers()\n"
      ]
    },
    {
      "cell_type": "markdown",
      "metadata": {
        "id": "PSowy9iIvRwN"
      },
      "source": [
        "#Testing camera capture feature of google collab. \n",
        "https://stackoverflow.com/questions/54389727/opening-web-camera-in-google-colab\n",
        "\n",
        "#Run this cell to enable the google colab camera API."
      ]
    },
    {
      "cell_type": "code",
      "execution_count": null,
      "metadata": {
        "id": "VeidNPAAvZpM"
      },
      "outputs": [],
      "source": [
        "from IPython.display import display, Javascript\n",
        "from google.colab.output import eval_js\n",
        "from base64 import b64decode\n",
        "\n",
        "def take_photo(filename='photo.jpg', quality=0.8):\n",
        "  js = Javascript('''\n",
        "    async function takePhoto(quality) {\n",
        "      const div = document.createElement('div');\n",
        "      const capture = document.createElement('button');\n",
        "      capture.textContent = 'Capture';\n",
        "      div.appendChild(capture);\n",
        "\n",
        "      const video = document.createElement('video');\n",
        "      video.style.display = 'block';\n",
        "      const stream = await navigator.mediaDevices.getUserMedia({video: true});\n",
        "\n",
        "      document.body.appendChild(div);\n",
        "      div.appendChild(video);\n",
        "      video.srcObject = stream;\n",
        "      await video.play();\n",
        "\n",
        "      // Resize the output to fit the video element.\n",
        "      google.colab.output.setIframeHeight(document.documentElement.scrollHeight, true);\n",
        "\n",
        "      // Wait for Capture to be clicked.\n",
        "      await new Promise((resolve) => capture.onclick = resolve);\n",
        "\n",
        "      const canvas = document.createElement('canvas');\n",
        "      canvas.width = video.videoWidth;\n",
        "      canvas.height = video.videoHeight;\n",
        "      canvas.getContext('2d').drawImage(video, 0, 0);\n",
        "      stream.getVideoTracks()[0].stop();\n",
        "      div.remove();\n",
        "      return canvas.toDataURL('image/jpeg', quality);\n",
        "    }\n",
        "    ''')\n",
        "  display(js)\n",
        "  data = eval_js('takePhoto({})'.format(quality))\n",
        "  binary = b64decode(data.split(',')[1])\n",
        "  with open(filename, 'wb') as f:\n",
        "    f.write(binary)\n",
        "  return filename"
      ]
    },
    {
      "cell_type": "markdown",
      "metadata": {
        "id": "t5QIykshxFUL"
      },
      "source": [
        "#The snippet below will generate a camera frame and allow you to take a picture.\n",
        "\n",
        "#Next step is saving that picture to the relevant class."
      ]
    },
    {
      "cell_type": "code",
      "execution_count": null,
      "metadata": {
        "colab": {
          "background_save": true,
          "base_uri": "https://localhost:8080/",
          "height": 520
        },
        "id": "rTyjdxfmwAxo",
        "outputId": "a55ab338-20cf-4909-c430-3acd21087536"
      },
      "outputs": [
        {
          "data": {
            "application/javascript": [
              "\n",
              "    async function takePhoto(quality) {\n",
              "      const div = document.createElement('div');\n",
              "      const capture = document.createElement('button');\n",
              "      capture.textContent = 'Capture';\n",
              "      div.appendChild(capture);\n",
              "\n",
              "      const video = document.createElement('video');\n",
              "      video.style.display = 'block';\n",
              "      const stream = await navigator.mediaDevices.getUserMedia({video: true});\n",
              "\n",
              "      document.body.appendChild(div);\n",
              "      div.appendChild(video);\n",
              "      video.srcObject = stream;\n",
              "      await video.play();\n",
              "\n",
              "      // Resize the output to fit the video element.\n",
              "      google.colab.output.setIframeHeight(document.documentElement.scrollHeight, true);\n",
              "\n",
              "      // Wait for Capture to be clicked.\n",
              "      await new Promise((resolve) => capture.onclick = resolve);\n",
              "\n",
              "      const canvas = document.createElement('canvas');\n",
              "      canvas.width = video.videoWidth;\n",
              "      canvas.height = video.videoHeight;\n",
              "      canvas.getContext('2d').drawImage(video, 0, 0);\n",
              "      stream.getVideoTracks()[0].stop();\n",
              "      div.remove();\n",
              "      return canvas.toDataURL('image/jpeg', quality);\n",
              "    }\n",
              "    "
            ],
            "text/plain": [
              "<IPython.core.display.Javascript object>"
            ]
          },
          "metadata": {},
          "output_type": "display_data"
        }
      ],
      "source": [
        "import os\n",
        "\n",
        "os.chdir(\"/SharedDrives/MyDrive/Colab Notebooks\")\n",
        "\n",
        "from IPython.display import Image\n",
        "try:\n",
        "  filename = take_photo()\n",
        "  print('Saved to {}'.format(filename))\n",
        "  \n",
        "  # Show the image which was just taken.\n",
        "  display(Image(filename))\n",
        "except Exception as err:\n",
        "  # Errors will be thrown if the user does not have a webcam or if they do not\n",
        "  # grant the page permission to access it.\n",
        "  print(str(err))"
      ]
    },
    {
      "cell_type": "markdown",
      "metadata": {
        "id": "MM3lf5wVC-hM"
      },
      "source": [
        "#Portion below captures frame every second for 100 seconds and saves to 'right' directory. CAN ONLY BE RUN LOCALLY."
      ]
    },
    {
      "cell_type": "code",
      "execution_count": null,
      "metadata": {
        "id": "VB_gsUHzb0cK"
      },
      "outputs": [],
      "source": [
        "import os\n",
        "import cv2\n",
        "import time\n",
        "\n",
        "parent_dir = os.getcwd() #Current directory\n",
        "directories = ['right', 'left', 'null'] #Classifications\n",
        "path = os.path.join(parent_dir, directories[0]) \n",
        "\n",
        "#vid = cv2.VideoCapture(0, cv2.CAP_DSHOW) #Opens the inbuilt camera, trying to remove delay with second argument\n",
        "# or uncomment this code to read from a file instead\n",
        "vid = cv2.VideoCapture(\"kev_prerecorded/right1.mp4\") #this can be commented in favour of using camera over prerecorded\n",
        "\n",
        "#first we need to figure out where we are in the directory\n",
        "get_frame_numbers()\n",
        "i = right_frame_number + 1 #add all the frames together, add 1 to start on the next frame\n",
        "\n",
        "time.sleep(5) #5 second pause to get in position\n",
        "\n",
        "while(True):\n",
        "    ret, frame = vid.read() #Capture frame by frame\n",
        "    #cv2.imshow('frame', frame) #Display on frame, temporarily commented this just to get the code to run inside of colab\n",
        "    \n",
        "    if cv2.waitKey(1) & 0xFF == ord('q'): #Press 'q' to stop\n",
        "        break\n",
        "    \n",
        "    #Saving frames to 'right' folder\n",
        "    cv2.imwrite(os.path.join(path, 'Frame'+str(i)+'.jpg'), frame)\n",
        "    i +=1\n",
        "    time.sleep(1) #Every 1 second\n",
        "    if (i == 240 + right_frame_number + 1): #this should make 240 frames, cuz we have 240 + wherever our last frame was + 1, where 1 represents where we are starting at\n",
        "        break\n",
        "            \n",
        "vid.release()\n",
        "cv2.destroyAllWindows()\n",
        "get_frame_numbers() #run it again just to make sure nothing is accidentally overwritten"
      ]
    },
    {
      "cell_type": "code",
      "execution_count": null,
      "metadata": {
        "id": "vzSL4wPpb0cP"
      },
      "outputs": [],
      "source": [
        "import os\n",
        "import cv2\n",
        "import time\n",
        "\n",
        "parent_dir = os.getcwd() #Current directory\n",
        "directories = ['right', 'left', 'null'] #Classifications\n",
        "path = os.path.join(parent_dir, directories[1]) \n",
        "\n",
        "vid = cv2.VideoCapture(0, cv2.CAP_DSHOW) #Opens the inbuilt camera, trying to remove delay with second argument\n",
        "\n",
        "i = left_frame_number + 1 #count all frames in \"left\", add 1\n",
        "\n",
        "time.sleep(5) #5 second pause to get in position\n",
        "\n",
        "while(True):\n",
        "    ret, frame = vid.read() #Capture frame by frame\n",
        "    cv2.imshow('frame', frame) #Display on frame\n",
        "    \n",
        "    if cv2.waitKey(1) & 0xFF == ord('q'): #Press 'q' to stop\n",
        "        break\n",
        "    \n",
        "    #Saving frames to 'right' folder\n",
        "    cv2.imwrite(os.path.join(path, 'Frame'+str(i)+'.jpg'), frame)\n",
        "    i +=1\n",
        "    time.sleep(1) #Every 1 second\n",
        "    if (i == 100):\n",
        "        break\n",
        "            \n",
        "vid.release()\n",
        "cv2.destroyAllWindows()"
      ]
    },
    {
      "cell_type": "markdown",
      "metadata": {
        "id": "U9s8UHItIRA8"
      },
      "source": [
        "https://stackoverflow.com/questions/18805348/how-rename-the-images-in-folder\n",
        "\n",
        "#Code below looks in the class directory within \"parent_dir\" and randomizes all the images moving them into a random folder"
      ]
    },
    {
      "cell_type": "code",
      "execution_count": null,
      "metadata": {
        "id": "XSWvqRKFINVO"
      },
      "outputs": [],
      "source": [
        "os.chdir(\"/SharedDrives/MyDrive/Colab Notebooks\")\n",
        "parent_dir = os.getcwd()\n",
        "\n",
        "class_dir = ['right', 'left', 'null']\n",
        "class_dir_destination = ['right_random', 'left_random', 'null_random']\n",
        "\n",
        "for i in range(3):\n",
        "  current_dir = os.path.join(parent_dir, class_dir[i]) #Changing into class folder\n",
        "  dest_dir = os.path.join(parent_dir, class_dir_destination[i])\n",
        "  count = 0 #This will just change the picture to 0 through the number of images\n",
        "  os.chdir(current_dir) \n",
        "  for jpgfile in glob.iglob(os.path.join(current_dir, \"*.jpg\")): #Iterating through the files\n",
        "    random_image = random.choice(os.listdir(current_dir)) #Any file in class folder\n",
        "    old_name = os.path.join(current_dir, random_image)\n",
        "    new_name = os.path.join(dest_dir, str(count)+ \".jpg\")\n",
        "    #print(\"Old name: \", old_name)\n",
        "    #print(\"New name: \", new_name)\n",
        "    os.rename(old_name, new_name)\n",
        "    #print(old_name + \" ---> \" + new_name)\n",
        "    count += 1\n"
      ]
    },
    {
      "cell_type": "markdown",
      "metadata": {
        "id": "PBIJki_jWRh5"
      },
      "source": [
        "#Moves back from random into left, null, right \n"
      ]
    },
    {
      "cell_type": "code",
      "execution_count": null,
      "metadata": {
        "id": "asjN_6MwWON2"
      },
      "outputs": [],
      "source": [
        "os.chdir(\"/SharedDrives/MyDrive/Colab Notebooks\")\n",
        "parent_dir = os.getcwd()\n",
        "\n",
        "class_dir_destination = ['right', 'left', 'null']\n",
        "class_dir = ['right_random', 'left_random', 'null_random']\n",
        "\n",
        "for i in range(3):\n",
        "  current_dir = os.path.join(parent_dir, class_dir[i]) #Changing into class folder\n",
        "  dest_dir = os.path.join(parent_dir, class_dir_destination[i])\n",
        "  os.chdir(current_dir) \n",
        "  for file_name in os.listdir(current_dir):\n",
        "    #random_image = random.choice(os.listdir(current_dir)) #Any file in class folder\n",
        "    source = os.path.join(current_dir, file_name)\n",
        "    destination = os.path.join(dest_dir, file_name)\n",
        "    if os.path.isfile(source):\n",
        "      shutil.move(source, destination)\n",
        "      print('Moved', file_name, ' from', source, ' to', destination)\n"
      ]
    },
    {
      "cell_type": "markdown",
      "metadata": {
        "id": "gAQiFp5s_juh"
      },
      "source": [
        "#Function below counts all the images for the classes in the specified folder and returns the numbers in the \"right\" \"left\" \"null\" order."
      ]
    },
    {
      "cell_type": "code",
      "execution_count": null,
      "metadata": {
        "id": "-EqB0b3n_UFF"
      },
      "outputs": [],
      "source": [
        "def class_count(src):\n",
        "  class_dir = ['right', 'left', 'null'] #Classifications\n",
        "  os.chdir(src)\n",
        "  parent_dir = os.getcwd()\n",
        "  #parent_dir = os.chdir(os.path.join(parent_dir, \"training_set\"))\n",
        "\n",
        "  data_counts = [0, 0, 0]\n",
        "\n",
        "  count_val = 0 \n",
        "\n",
        "  for i in range(3): \n",
        "      count_val = 0\n",
        "      src_dir = os.path.join(parent_dir, class_dir[i])\n",
        "      for jpgfile in glob.iglob(os.path.join(src_dir,\"*.jpg\")):\n",
        "          count_val += 1\n",
        "          \n",
        "      data_counts[i] = count_val\n",
        "\n",
        "  return data_counts"
      ]
    },
    {
      "cell_type": "markdown",
      "metadata": {
        "id": "r1fuzCAUBafw"
      },
      "source": [
        "#Getting count in each folder"
      ]
    },
    {
      "cell_type": "code",
      "execution_count": null,
      "metadata": {
        "colab": {
          "base_uri": "https://localhost:8080/"
        },
        "id": "nZ08QvkuAUu4",
        "outputId": "2889893a-384c-4938-a6f9-05405b068188"
      },
      "outputs": [
        {
          "name": "stdout",
          "output_type": "stream",
          "text": [
            "In /Colab Notebooks, 'right'  'left'  'null: [636, 636, 636]\n",
            "In /Colab Notebooks/training_set, 'right'  'left'  'null: [605, 605, 605]\n",
            "In /Colab Notebooks/test_set, 'right'  'left'  'null: [31, 31, 31]\n"
          ]
        }
      ],
      "source": [
        "#Counting \"right\" \"left\" \"null\" in /Colab Notebooks\n",
        "root_rln_count = class_count(\"/SharedDrives/MyDrive/Colab Notebooks\")\n",
        "print(\"In /Colab Notebooks, 'right'  'left'  'null:\", root_rln_count)\n",
        "\n",
        "#Counting \"right\" \"left\" \"null\" in /Colab Notebooks/training_set\n",
        "training_rln_count = class_count(\"/SharedDrives/MyDrive/Colab Notebooks/training_set\")\n",
        "print(\"In /Colab Notebooks/training_set, 'right'  'left'  'null:\", training_rln_count)\n",
        "\n",
        "#Counting \"right\" \"left\" \"null\" in /Colab Notebooks/test_set\n",
        "test_rln_count = class_count(\"/SharedDrives/MyDrive/Colab Notebooks/test_set\")\n",
        "print(\"In /Colab Notebooks/test_set, 'right'  'left'  'null:\", test_rln_count)\n"
      ]
    },
    {
      "cell_type": "markdown",
      "metadata": {
        "id": "NIfhpjGFb0cb"
      },
      "source": [
        "#The bit below counts the number of files that will be training and test based on the percentage selected. "
      ]
    },
    {
      "cell_type": "code",
      "execution_count": null,
      "metadata": {
        "colab": {
          "base_uri": "https://localhost:8080/"
        },
        "id": "QyrHKdvPb0cb",
        "outputId": "fa82515d-5f23-42fc-8d12-73dc22de5a1b"
      },
      "outputs": [
        {
          "name": "stdout",
          "output_type": "stream",
          "text": [
            "What percentage to make your training set: 90\n",
            "[573. 573. 573.]\n",
            "[63. 63. 63.]\n"
          ]
        }
      ],
      "source": [
        "import numpy as np\n",
        "\n",
        "train_per = input(\"What percentage to make your training set: \")\n",
        "\n",
        "train_counts = np.array(root_rln_count) * (int(train_per)/100)\n",
        "\n",
        "train_counts = np.ceil(train_counts)\n",
        "\n",
        "test_counts = np.ceil(root_rln_count - np.ceil(train_counts))\n",
        "\n",
        "print(train_counts)\n",
        "print(test_counts)"
      ]
    },
    {
      "cell_type": "markdown",
      "metadata": {
        "id": "cKTi5AjpGam-"
      },
      "source": [
        "#Function below copies from the chose directory \"parent_dir\" into training and test based on the amount selected \"train_counts\" and \"test_counts\""
      ]
    },
    {
      "cell_type": "code",
      "execution_count": null,
      "metadata": {
        "id": "-0WStssKDDDH"
      },
      "outputs": [],
      "source": [
        "def train_test_splitter(parent_dir, train_counts, test_counts):\n",
        "\n",
        "  #parent_dir = (\"/SharedDrives/MyDrive/Colab Notebooks/testy\")\n",
        "\n",
        "  os.chdir(parent_dir)\n",
        "  os.getcwd()\n",
        "\n",
        "  #training_dir = (\"/SharedDrives/MyDrive/Colab Notebooks/testy/training_set\")\n",
        "  #test_dir = (\"/SharedDrives/MyDrive/Colab Notebooks/testy/test_set\")\n",
        "\n",
        "  training_dir = os.path.join(parent_dir, \"training_set\")\n",
        "  test_dir = os.path.join(parent_dir, \"test_set\")\n",
        "\n",
        "  class_dir = ['right', 'left', 'null']\n",
        "\n",
        "  for i in range(3):\n",
        "    count = 0\n",
        "    current_dir = os.path.join(parent_dir, class_dir[i]) #Changing into class folder\n",
        "\n",
        "    for file_name in os.listdir(current_dir):\n",
        "      if (count < train_counts[i]):\n",
        "        dest_dir = training_dir\n",
        "      else:\n",
        "        dest_dir = test_dir\n",
        "\n",
        "      #Remove the line below if it doesn't work\n",
        "      #random_image = random.choice(os.listdir(current_dir)) #Select random image\n",
        "\n",
        "      #Change 'random_image' back to 'file_name' if it doesn't work\n",
        "      source = os.path.join(current_dir, file_name)\n",
        "      destination = os.path.join(dest_dir, class_dir[i])\n",
        "\n",
        "      if os.path.isfile(source):\n",
        "        shutil.copy(source, destination)\n",
        "        print('copied:', file_name, ' from', source, ' to ', destination)\n",
        "        count +=1"
      ]
    },
    {
      "cell_type": "markdown",
      "metadata": {
        "id": "b4UsfxBVJK1V"
      },
      "source": [
        "#Dividing the dataset into training and test\n"
      ]
    },
    {
      "cell_type": "code",
      "execution_count": null,
      "metadata": {
        "id": "Cu1XFMs4JXC8"
      },
      "outputs": [],
      "source": [
        "train_test_splitter(\"/SharedDrives/MyDrive/Colab Notebooks\", train_counts, test_counts)"
      ]
    },
    {
      "cell_type": "markdown",
      "metadata": {
        "id": "rdCv7gA6NMqj"
      },
      "source": [
        "#Deleting all files in test_set and training_set of root"
      ]
    },
    {
      "cell_type": "code",
      "execution_count": null,
      "metadata": {
        "id": "tnYnnAlhS3V1"
      },
      "outputs": [],
      "source": [
        "def remove_images(directory_path):\n",
        "  for f in os.listdir(directory_path):\n",
        "    os.remove(os.path.join(directory_path,f))"
      ]
    },
    {
      "cell_type": "code",
      "execution_count": null,
      "metadata": {
        "id": "mmRcP7d8NTwC"
      },
      "outputs": [],
      "source": [
        "remove_images(\"/SharedDrives/MyDrive/Colab Notebooks/training_set/right\")\n",
        "remove_images(\"/SharedDrives/MyDrive/Colab Notebooks/training_set/left\")\n",
        "remove_images(\"/SharedDrives/MyDrive/Colab Notebooks/training_set/null\")\n",
        "remove_images(\"/SharedDrives/MyDrive/Colab Notebooks/test_set/right\")\n",
        "remove_images(\"/SharedDrives/MyDrive/Colab Notebooks/test_set/left\")\n",
        "remove_images(\"/SharedDrives/MyDrive/Colab Notebooks/test_set/null\")"
      ]
    },
    {
      "cell_type": "code",
      "execution_count": null,
      "metadata": {
        "id": "xbrI9M9FSr_j"
      },
      "outputs": [],
      "source": [
        "remove_images(\"/SharedDrives/MyDrive/Colab Notebooks/left\")\n",
        "remove_images(\"/SharedDrives/MyDrive/Colab Notebooks/right\")\n",
        "remove_images(\"/SharedDrives/MyDrive/Colab Notebooks/null\")"
      ]
    },
    {
      "cell_type": "code",
      "execution_count": null,
      "metadata": {
        "id": "imDsElwfTYb8"
      },
      "outputs": [],
      "source": [
        "remove_images(\"/SharedDrives/MyDrive/Colab Notebooks/left_random\")\n",
        "remove_images(\"/SharedDrives/MyDrive/Colab Notebooks/right_random\")\n",
        "remove_images(\"/SharedDrives/MyDrive/Colab Notebooks/null_random\")"
      ]
    },
    {
      "cell_type": "markdown",
      "metadata": {
        "id": "5PHfCZQ4KbV6"
      },
      "source": [
        "#Back up class folders from root folder into DataBackup"
      ]
    },
    {
      "cell_type": "code",
      "execution_count": null,
      "metadata": {
        "id": "o41juzW7Kjbp"
      },
      "outputs": [],
      "source": [
        "def image_backup(parent_dir, dest_dir):\n",
        "  \n",
        "  \"\"\"\n",
        "  parent_dir = \"/SharedDrives/MyDrive/Colab Notebooks/\"\n",
        "  dest_dir = \"/SharedDrives/MyDrive/Colab Notebooks/DataBackup\"\n",
        "  \"\"\"\n",
        "  \n",
        "  class_dir = ['right', 'left', 'null']\n",
        "\n",
        "  for i in range(3):\n",
        "    current_dir = os.path.join(parent_dir, class_dir[i]) #Changing into class folder\n",
        "\n",
        "    for file_name in os.listdir(current_dir):\n",
        "      source = os.path.join(current_dir, file_name)\n",
        "      destination = os.path.join(dest_dir, class_dir[i])\n",
        "      if os.path.isfile(source):\n",
        "        shutil.copy(source, destination)\n",
        "        print('copied: ', file_name, ' from ', source, ' to', destination)"
      ]
    },
    {
      "cell_type": "code",
      "execution_count": null,
      "metadata": {
        "id": "VMoXeU1nLwDe"
      },
      "outputs": [],
      "source": [
        "#Copying from DataBackup to root\n",
        "image_backup(\"/SharedDrives/MyDrive/Colab Notebooks/DataBackup\", \"/SharedDrives/MyDrive/Colab Notebooks\")"
      ]
    },
    {
      "cell_type": "code",
      "execution_count": null,
      "metadata": {
        "id": "_UG44IO_6eFy"
      },
      "outputs": [],
      "source": [
        "#Copying from root to DataBackup\n",
        "image_backup(\"/SharedDrives/MyDrive/Colab Notebooks\", \"/SharedDrives/MyDrive/Colab Notebooks/DataBackup\")"
      ]
    },
    {
      "cell_type": "markdown",
      "metadata": {
        "id": "MXxUJcJcG9-e"
      },
      "source": [
        "#Code below copied data from root folder the class folders into testy data folders"
      ]
    },
    {
      "cell_type": "code",
      "execution_count": null,
      "metadata": {
        "id": "hoSmUazn9Eor"
      },
      "outputs": [],
      "source": [
        "import os\n",
        "from distutils.dir_util import copy_tree\n",
        "\n",
        "os.chdir(\"/SharedDrives/MyDrive/Colab Notebooks\")\n",
        "print(os.getcwd())\n",
        "class_dir = ['right', 'left', 'null'] #Classifications\n",
        "\n",
        "source_folder = \"/SharedDrives/MyDrive/Colab Notebooks\"\n",
        "destination_folder = \"/SharedDrives/MyDrive/Colab Notebooks/testy\"\n",
        "\n",
        "# fetch all files\n",
        "for i in range(3):\n",
        "    # construct full file path\n",
        "    source = str(source_folder +\"/\" + class_dir[i])\n",
        "    print(source)\n",
        "    destination = str(destination_folder + \"/\" + class_dir[i])\n",
        "    print(destination)\n",
        "    copy_tree(source, destination)"
      ]
    },
    {
      "cell_type": "code",
      "execution_count": null,
      "metadata": {
        "colab": {
          "base_uri": "https://localhost:8080/"
        },
        "id": "ye__EtPNb0ca",
        "outputId": "1d397767-f0ab-406a-d8f6-35f28ab06c56"
      },
      "outputs": [
        {
          "data": {
            "text/plain": [
              "[339, 339, 339]"
            ]
          },
          "execution_count": 32,
          "metadata": {},
          "output_type": "execute_result"
        }
      ],
      "source": [
        "import glob\n",
        "import shutil\n",
        "import os\n",
        "\n",
        "class_dir = ['right', 'left', 'null'] #Classifications\n",
        "os.chdir(\"/SharedDrives/MyDrive/Colab Notebooks\")\n",
        "parent_dir = os.getcwd()\n",
        "\n",
        "total_data_counts = [0, 0, 0]\n",
        "\n",
        "count_val = 0 \n",
        "\n",
        "for i in range(3): \n",
        "    count_val = 0\n",
        "    src_dir = os.path.join(parent_dir, class_dir[i])\n",
        "    for jpgfile in glob.iglob(os.path.join(src_dir,\"*.jpg\")):\n",
        "        count_val += 1\n",
        "        \n",
        "    total_data_counts[i] = count_val\n",
        "\n",
        "total_data_counts"
      ]
    },
    {
      "cell_type": "markdown",
      "metadata": {
        "id": "7EdueQXdGyXp"
      },
      "source": [
        "#Count \"left_random\", \"right_random\", etc."
      ]
    },
    {
      "cell_type": "code",
      "execution_count": null,
      "metadata": {
        "colab": {
          "base_uri": "https://localhost:8080/"
        },
        "id": "NwzvcUbDGwWM",
        "outputId": "974fcf5f-a886-43c0-c99c-a17d7c959354"
      },
      "outputs": [
        {
          "data": {
            "text/plain": [
              "[0, 0, 0]"
            ]
          },
          "execution_count": 23,
          "metadata": {},
          "output_type": "execute_result"
        }
      ],
      "source": [
        "import glob\n",
        "import shutil\n",
        "import os\n",
        "\n",
        "class_dir = ['right_random', 'left_random', 'null_random'] #Classifications\n",
        "os.chdir(\"/SharedDrives/MyDrive/Colab Notebooks/testy\")\n",
        "parent_dir = os.getcwd()\n",
        "\n",
        "total_data_counts = [0, 0, 0]\n",
        "\n",
        "count_val = 0 \n",
        "\n",
        "for i in range(3): \n",
        "    count_val = 0\n",
        "    src_dir = os.path.join(parent_dir, class_dir[i])\n",
        "    for jpgfile in glob.iglob(os.path.join(src_dir,\"*.jpg\")):\n",
        "        count_val += 1\n",
        "        \n",
        "    total_data_counts[i] = count_val\n",
        "\n",
        "total_data_counts"
      ]
    },
    {
      "cell_type": "markdown",
      "metadata": {
        "id": "ZH_efyHMKzfD"
      },
      "source": [
        "#Counting training in /testy\n"
      ]
    },
    {
      "cell_type": "code",
      "execution_count": null,
      "metadata": {
        "colab": {
          "base_uri": "https://localhost:8080/"
        },
        "id": "B4dFGE10KyIx",
        "outputId": "5bf398c3-355b-4a65-bf43-08df60285312"
      },
      "outputs": [
        {
          "data": {
            "text/plain": [
              "[306, 306, 306]"
            ]
          },
          "execution_count": 17,
          "metadata": {},
          "output_type": "execute_result"
        }
      ],
      "source": [
        "import glob\n",
        "import shutil\n",
        "import os\n",
        "\n",
        "class_dir = ['right', 'left', 'null'] #Classifications\n",
        "os.chdir(r\"/SharedDrives/MyDrive/Colab Notebooks/testy/training_set\")\n",
        "parent_dir = os.getcwd()\n",
        "#parent_dir = os.chdir(os.path.join(parent_dir, \"training_set\"))\n",
        "\n",
        "training_data_counts = [0, 0, 0]\n",
        "\n",
        "count_val = 0 \n",
        "\n",
        "for i in range(3): \n",
        "    count_val = 0\n",
        "    src_dir = os.path.join(parent_dir, class_dir[i])\n",
        "    for jpgfile in glob.iglob(os.path.join(src_dir,\"*.jpg\")):\n",
        "        count_val += 1\n",
        "        \n",
        "    training_data_counts[i] = count_val\n",
        "\n",
        "training_data_counts"
      ]
    },
    {
      "cell_type": "markdown",
      "metadata": {
        "id": "YEC3EB8RHB1-"
      },
      "source": [
        "#Counting test in /testy"
      ]
    },
    {
      "cell_type": "code",
      "execution_count": null,
      "metadata": {
        "colab": {
          "base_uri": "https://localhost:8080/"
        },
        "id": "zLgV9MiwHHVv",
        "outputId": "82288af5-cb56-4113-998b-a89f270a53fe"
      },
      "outputs": [
        {
          "data": {
            "text/plain": [
              "[33, 33, 33]"
            ]
          },
          "execution_count": 18,
          "metadata": {},
          "output_type": "execute_result"
        }
      ],
      "source": [
        "import glob\n",
        "import shutil\n",
        "import os\n",
        "\n",
        "\n",
        "class_dir = ['right', 'left', 'null'] #Classifications\n",
        "os.chdir(r\"/SharedDrives/MyDrive/Colab Notebooks/testy/test_set\")\n",
        "parent_dir = os.getcwd()\n",
        "#parent_dir = os.chdir(os.path.join(parent_dir, \"training_set\"))\n",
        "\n",
        "test_data_counts = [0, 0, 0]\n",
        "\n",
        "count_val = 0 \n",
        "\n",
        "for i in range(3): \n",
        "    count_val = 0\n",
        "    src_dir = os.path.join(parent_dir, class_dir[i])\n",
        "    for jpgfile in glob.iglob(os.path.join(src_dir,\"*.jpg\")):\n",
        "        count_val += 1\n",
        "        \n",
        "    test_data_counts[i] = count_val\n",
        "\n",
        "test_data_counts\n",
        "#model_test_counts = sum(test_data_counts)\n",
        "#print(model_test_counts)"
      ]
    },
    {
      "cell_type": "markdown",
      "metadata": {
        "id": "qGmnso5NNzmC"
      },
      "source": [
        "#Moving from random class folders into training and test according to the percentages"
      ]
    },
    {
      "cell_type": "code",
      "execution_count": null,
      "metadata": {
        "colab": {
          "base_uri": "https://localhost:8080/",
          "height": 235
        },
        "id": "qoLDIjZDNx47",
        "outputId": "7a0429d8-9e61-4d94-d2c1-f66bdb20009e"
      },
      "outputs": [
        {
          "ename": "FileNotFoundError",
          "evalue": "ignored",
          "output_type": "error",
          "traceback": [
            "\u001b[0;31m---------------------------------------------------------------------------\u001b[0m",
            "\u001b[0;31mFileNotFoundError\u001b[0m                         Traceback (most recent call last)",
            "\u001b[0;32m<ipython-input-39-b63045b6015d>\u001b[0m in \u001b[0;36m<module>\u001b[0;34m()\u001b[0m\n\u001b[1;32m     15\u001b[0m   \u001b[0mcurrent_dir\u001b[0m \u001b[0;34m=\u001b[0m \u001b[0mos\u001b[0m\u001b[0;34m.\u001b[0m\u001b[0mpath\u001b[0m\u001b[0;34m.\u001b[0m\u001b[0mjoin\u001b[0m\u001b[0;34m(\u001b[0m\u001b[0mparent_dir\u001b[0m\u001b[0;34m,\u001b[0m \u001b[0mclass_dir\u001b[0m\u001b[0;34m[\u001b[0m\u001b[0mi\u001b[0m\u001b[0;34m]\u001b[0m\u001b[0;34m)\u001b[0m \u001b[0;31m#Changing into class folder\u001b[0m\u001b[0;34m\u001b[0m\u001b[0;34m\u001b[0m\u001b[0m\n\u001b[1;32m     16\u001b[0m \u001b[0;34m\u001b[0m\u001b[0m\n\u001b[0;32m---> 17\u001b[0;31m   \u001b[0;32mfor\u001b[0m \u001b[0mfile_name\u001b[0m \u001b[0;32min\u001b[0m \u001b[0mos\u001b[0m\u001b[0;34m.\u001b[0m\u001b[0mlistdir\u001b[0m\u001b[0;34m(\u001b[0m\u001b[0mcurrent_dir\u001b[0m\u001b[0;34m)\u001b[0m\u001b[0;34m:\u001b[0m\u001b[0;34m\u001b[0m\u001b[0;34m\u001b[0m\u001b[0m\n\u001b[0m\u001b[1;32m     18\u001b[0m     \u001b[0;32mif\u001b[0m \u001b[0;34m(\u001b[0m\u001b[0mcount\u001b[0m \u001b[0;34m<\u001b[0m \u001b[0mtrain_counts\u001b[0m\u001b[0;34m[\u001b[0m\u001b[0;36m1\u001b[0m\u001b[0;34m]\u001b[0m\u001b[0;34m)\u001b[0m\u001b[0;34m:\u001b[0m\u001b[0;34m\u001b[0m\u001b[0;34m\u001b[0m\u001b[0m\n\u001b[1;32m     19\u001b[0m       \u001b[0mdest_dir\u001b[0m \u001b[0;34m=\u001b[0m \u001b[0mtraining_dir\u001b[0m\u001b[0;34m\u001b[0m\u001b[0;34m\u001b[0m\u001b[0m\n",
            "\u001b[0;31mFileNotFoundError\u001b[0m: [Errno 2] No such file or directory: '/SharedDrives/MyDrive/Colab Notebooks/testy/right'"
          ]
        }
      ],
      "source": [
        "#USE train_counts AND test_counts\n",
        "\n",
        "parent_dir = (\"/SharedDrives/MyDrive/Colab Notebooks\")\n",
        "\n",
        "os.chdir(parent_dir)\n",
        "os.getcwd()\n",
        "\n",
        "#training_dir = (\"/SharedDrives/MyDrive/Colab Notebooks/testy/training_set\")\n",
        "#test_dir = (\"/SharedDrives/MyDrive/Colab Notebooks/testy/test_set\")\n",
        "\n",
        "class_dir = ['right', 'left', 'null']\n",
        "\n",
        "for i in range(3):\n",
        "  count = 0\n",
        "  current_dir = os.path.join(parent_dir, class_dir[i]) #Changing into class folder\n",
        "\n",
        "  for file_name in os.listdir(current_dir):\n",
        "    if (count < train_counts[1]):\n",
        "      dest_dir = training_dir\n",
        "    else:\n",
        "      dest_dir = test_dir\n",
        "\n",
        "    random_image = random.choice(os.listdir(current_dir)) #Any file in class folder\n",
        "\n",
        "    source = os.path.join(current_dir, random_image)\n",
        "    destination_inter = os.path.join(dest_dir, class_dir[i])\n",
        "    destination = os.path.join(destination_inter, random_image)\n",
        "    if os.path.isfile(source):\n",
        "      shutil.move(source, destination)\n",
        "      print('Moved', random_image)\n",
        "      count +=1"
      ]
    },
    {
      "cell_type": "code",
      "execution_count": null,
      "metadata": {
        "id": "oXAxWLaSTh2J"
      },
      "outputs": [],
      "source": [
        "#Just to remove folders with contents\n",
        "\"\"\"\n",
        "!rm -rf \"/SharedDrives/MyDrive/Colab Notebooks/testy/training_set/right\"\n",
        "!rm -rf \"/SharedDrives/MyDrive/Colab Notebooks/testy/training_set/left\"\n",
        "!rm -rf \"/SharedDrives/MyDrive/Colab Notebooks/testy/training_set/null\"\n",
        "\n",
        "!rm -rf \"/SharedDrives/MyDrive/Colab Notebooks/DataBackup\"\n",
        "\"\"\"\n"
      ]
    },
    {
      "cell_type": "code",
      "execution_count": null,
      "metadata": {
        "id": "crGCKBpK66nF"
      },
      "outputs": [],
      "source": [
        "#Function to copy all contents of source \"src\" into destination \"drc\"\n",
        "def copying_folder(src, drc):\n",
        "  from pathlib import Path\n",
        "  import shutil\n",
        " \n",
        "  files=os.listdir(src)\n",
        " \n",
        "  # iterating over all the files in\n",
        "  # the source directory\n",
        "  for fname in files:\n",
        "     \n",
        "    # copying the files to the\n",
        "    # destination directory\n",
        "    shutil.copy2(os.path.join(src,fname), drc)"
      ]
    },
    {
      "cell_type": "code",
      "execution_count": null,
      "metadata": {
        "id": "5XBOVsaU4zur"
      },
      "outputs": [],
      "source": [
        "copying_folder(\"/SharedDrives/MyDrive/Colab Notebooks/left\", \"/SharedDrives/MyDrive/Colab Notebooks/DataBackup/left\")\n",
        "copying_folder(\"/SharedDrives/MyDrive/Colab Notebooks/right\", \"/SharedDrives/MyDrive/Colab Notebooks/DataBackup/right\")\n",
        "copying_folder(\"/SharedDrives/MyDrive/Colab Notebooks/null\", \"/SharedDrives/MyDrive/Colab Notebooks/DataBackup/null\")\n"
      ]
    },
    {
      "cell_type": "markdown",
      "metadata": {
        "id": "18Khx8YVb0cc"
      },
      "source": [
        "#Based on yoga-pose-CNN by Anastasia Merchenkova\n",
        "#A CNN in Keras\n",
        "https://github.com/amarchenkova/yoga-pose-CNN/blob/master/cnn_multiclass.py"
      ]
    },
    {
      "cell_type": "code",
      "execution_count": null,
      "metadata": {
        "id": "bZZR_ZbNb0ce",
        "outputId": "2e98165f-29fd-4ec7-92cc-f36734c9719e"
      },
      "outputs": [
        {
          "name": "stdout",
          "output_type": "stream",
          "text": [
            "Found 210 images belonging to 3 classes.\n",
            "Found 87 images belonging to 3 classes.\n"
          ]
        },
        {
          "name": "stderr",
          "output_type": "stream",
          "text": [
            "C:\\Users\\deoli\\CEN5728 - HCI\\cnn_multiclass.py:45: UserWarning: `Model.fit_generator` is deprecated and will be removed in a future version. Please use `Model.fit`, which supports generators.\n",
            "  classifier.fit_generator(training_set,\n"
          ]
        },
        {
          "name": "stdout",
          "output_type": "stream",
          "text": [
            "6/6 [==============================] - 3s 465ms/step - loss: 1.2102 - accuracy: 0.3315 - val_loss: 1.0962 - val_accuracy: 0.3281\n"
          ]
        }
      ],
      "source": [
        "%run -i \"cnn_multiclass.py\""
      ]
    },
    {
      "cell_type": "markdown",
      "metadata": {
        "id": "7OK3VZ2ik841"
      },
      "source": [
        "#The chunk below is the text from the \"cnn_multiclass.py\" file. You can run it either way. From the run command above, or the chunk below.\n",
        "\n",
        "###VERY IMPORTANT: Variable \"steps_per_epoch\" and \"validation_steps\" must be change according to the total amount of training and test (respectivelY) data you have. "
      ]
    },
    {
      "cell_type": "code",
      "execution_count": null,
      "metadata": {
        "colab": {
          "base_uri": "https://localhost:8080/"
        },
        "id": "ofCf87TNk3Ei",
        "outputId": "0d8c59ab-28ba-4069-993a-69f7a01b83db"
      },
      "outputs": [
        {
          "name": "stdout",
          "output_type": "stream",
          "text": [
            "Found 1815 images belonging to 3 classes.\n",
            "Found 93 images belonging to 3 classes.\n"
          ]
        },
        {
          "name": "stderr",
          "output_type": "stream",
          "text": [
            "/usr/local/lib/python3.7/dist-packages/ipykernel_launcher.py:54: UserWarning: `Model.fit_generator` is deprecated and will be removed in a future version. Please use `Model.fit`, which supports generators.\n"
          ]
        },
        {
          "name": "stdout",
          "output_type": "stream",
          "text": [
            "Epoch 1/5\n",
            "56/56 [==============================] - 46s 815ms/step - loss: 0.8919 - accuracy: 0.5799 - val_loss: 0.3773 - val_accuracy: 0.8750\n",
            "Epoch 2/5\n",
            "56/56 [==============================] - 43s 768ms/step - loss: 0.3831 - accuracy: 0.8536 - val_loss: 0.1399 - val_accuracy: 0.9688\n",
            "Epoch 3/5\n",
            "56/56 [==============================] - 43s 759ms/step - loss: 0.1924 - accuracy: 0.9310 - val_loss: 0.0385 - val_accuracy: 1.0000\n",
            "Epoch 4/5\n",
            "56/56 [==============================] - 43s 763ms/step - loss: 0.1207 - accuracy: 0.9619 - val_loss: 0.0223 - val_accuracy: 1.0000\n",
            "Epoch 5/5\n",
            "56/56 [==============================] - 43s 762ms/step - loss: 0.1230 - accuracy: 0.9568 - val_loss: 0.0460 - val_accuracy: 1.0000\n",
            "Model: \"sequential_1\"\n",
            "_________________________________________________________________\n",
            " Layer (type)                Output Shape              Param #   \n",
            "=================================================================\n",
            " conv2d_2 (Conv2D)           (None, 62, 62, 32)        896       \n",
            "                                                                 \n",
            " max_pooling2d_2 (MaxPooling  (None, 31, 31, 32)       0         \n",
            " 2D)                                                             \n",
            "                                                                 \n",
            " conv2d_3 (Conv2D)           (None, 29, 29, 32)        9248      \n",
            "                                                                 \n",
            " max_pooling2d_3 (MaxPooling  (None, 14, 14, 32)       0         \n",
            " 2D)                                                             \n",
            "                                                                 \n",
            " flatten_1 (Flatten)         (None, 6272)              0         \n",
            "                                                                 \n",
            " dense_2 (Dense)             (None, 128)               802944    \n",
            "                                                                 \n",
            " dense_3 (Dense)             (None, 3)                 387       \n",
            "                                                                 \n",
            "=================================================================\n",
            "Total params: 813,475\n",
            "Trainable params: 813,475\n",
            "Non-trainable params: 0\n",
            "_________________________________________________________________\n"
          ]
        }
      ],
      "source": [
        "from keras.models import Sequential\n",
        "from keras.models import load_model\n",
        "from keras.layers import Conv2D\n",
        "from keras.layers import MaxPooling2D\n",
        "from keras.layers import Flatten\n",
        "from keras.layers import Dense\n",
        "from keras.preprocessing.image import ImageDataGenerator\n",
        "from IPython.display import display \n",
        "from PIL import Image\n",
        "import h5py\n",
        "\n",
        "os.chdir(\"/SharedDrives/MyDrive/Colab Notebooks\") #UNCOMMENT AFTER TESTING\n",
        "#os.chdir(\"/SharedDrives/MyDrive/Colab Notebooks/testy\") #REMOVE AFTER TESTING THIS SHOULD RUN IN BASE DIRECTORY\n",
        "\n",
        "# CNN model \n",
        "classifier = Sequential()\n",
        "\n",
        "classifier.add(Conv2D(32, (3, 3), input_shape = (64, 64, 3), activation = 'relu'))\n",
        "classifier.add(MaxPooling2D(pool_size = (2, 2)))\n",
        "classifier.add(Conv2D(32, (3, 3), activation = 'relu'))\n",
        "classifier.add(MaxPooling2D(pool_size = (2, 2)))\n",
        "classifier.add(Flatten())\n",
        "classifier.add(Dense(units = 128, activation = 'relu'))\n",
        "classifier.add(Dense(units = 3, activation = 'softmax')) # number of classes, units changed from 10 to 3\n",
        "\n",
        "classifier.compile(optimizer = 'adam', loss = 'categorical_crossentropy', metrics = ['accuracy'])\n",
        "\n",
        "# Data Augmentation\n",
        "batch_size = 32\n",
        "train_datagen = ImageDataGenerator(rescale = 1./255,\n",
        "                                   shear_range = 0.2,\n",
        "                                   zoom_range = 0.2,\n",
        "                                   rotation_range = 20,\n",
        "                                   horizontal_flip = False) #Changed from true to false. I do not want it to flip since that's a different command\n",
        "\n",
        "test_datagen = ImageDataGenerator(rescale = 1./255)\n",
        "\n",
        "training_set = train_datagen.flow_from_directory('training_set',\n",
        "                                                 target_size = (64, 64),\n",
        "                                                 batch_size = batch_size,\n",
        "                                                 class_mode = 'categorical')\n",
        "\n",
        "test_set = test_datagen.flow_from_directory('test_set',\n",
        "                                            target_size = (64, 64),\n",
        "                                            batch_size = batch_size,\n",
        "                                            class_mode = 'categorical')\n",
        "\n",
        "#training_rln_count \n",
        "#test_rln_count\n",
        "classifier.fit_generator(training_set,\n",
        "                         steps_per_epoch = sum(training_rln_count) // batch_size, # number of training set images, 729 SWITCHED\n",
        "                         epochs = 5,\n",
        "                         validation_data = test_set,\n",
        "                         validation_steps = sum(test_rln_count) // batch_size) # number of test set images, 229 SWITCHED\n",
        "\n",
        "\n",
        "classifier.save('imageClassifier10.h5') #save model \n",
        "classifier.summary()"
      ]
    },
    {
      "cell_type": "markdown",
      "metadata": {
        "id": "klX0MUqPlUZ7"
      },
      "source": [
        "#Test your model using the script below. Change the load_model() parameter to the latest model and select your image in the load_img() parameter"
      ]
    },
    {
      "cell_type": "code",
      "execution_count": null,
      "metadata": {
        "colab": {
          "base_uri": "https://localhost:8080/"
        },
        "id": "WCiKypiKk05y",
        "outputId": "371d9fdc-fb5d-4019-e78a-bcb5c435db42"
      },
      "outputs": [
        {
          "name": "stdout",
          "output_type": "stream",
          "text": [
            "[[1. 0. 0.]]\n",
            "left\n"
          ]
        }
      ],
      "source": [
        "\"\"\"\n",
        "import numpy as np\n",
        "from keras.preprocessing import image\n",
        "from keras.models import Sequential\n",
        "from keras.models import load_model\n",
        "import h5py\n",
        "import os\n",
        "\"\"\"\n",
        "\n",
        "os.chdir(\"/SharedDrives/MyDrive/Colab Notebooks\") \n",
        "\n",
        "classifier = load_model('imageClassifier10.h5') #load the model that was created using cnn_multiclass.py\n",
        "\n",
        "test_image = image.load_img('left/260.jpg', target_size = (64, 64)) #folder predictions with images that I want to test\n",
        "test_image = image.img_to_array(test_image)\n",
        "test_image = np.expand_dims(test_image, axis = 0)\n",
        " \n",
        "result = classifier.predict(test_image) # returns array\n",
        "\n",
        "if result[0][0] == 1:\n",
        "\tprediction = 'left' #predictions in array are in alphabetical order\n",
        "elif result[0][1] == 1:\n",
        "\tprediction = 'null'\n",
        "elif result[0][2] == 1:\n",
        "\tprediction = 'right'\n",
        "\n",
        "print(result)\n",
        "print(prediction)"
      ]
    },
    {
      "cell_type": "code",
      "execution_count": null,
      "metadata": {
        "id": "kTL9xjvbYFW4"
      },
      "outputs": [],
      "source": [
        "from IPython.display import Image\n",
        "import numpy as np\n",
        "from keras.preprocessing import image\n",
        "from keras.models import Sequential\n",
        "from keras.models import load_model\n",
        "import h5py\n",
        "\n",
        "os.chdir(\"/SharedDrives/MyDrive/Colab Notebooks\")\n",
        "\n",
        "try:\n",
        "  filename = take_photo()\n",
        "  print('Saved to {}'.format(filename))\n",
        "  \n",
        "  # Show the image which was just taken.\n",
        "  display(Image(filename))\n",
        "except Exception as err:\n",
        "  # Errors will be thrown if the user does not have a webcam or if they do not\n",
        "  # grant the page permission to access it.\n",
        "  print(str(err))\n",
        "\n",
        "\n",
        "classifier = load_model('imageClassifier10.h5') #load the model that was created using cnn_multiclass.py\n",
        "\n",
        "test_image = image.load_img('photo.jpg', target_size = (64, 64)) #folder predictions with images that I want to test\n",
        "test_image = image.img_to_array(test_image)\n",
        "test_image = np.expand_dims(test_image, axis = 0)\n",
        " \n",
        "result = classifier.predict(test_image) # returns array\n",
        "\n",
        "if result[0][0] == 1:\n",
        "\tprediction = 'left' #predictions in array are in alphabetical order\n",
        "elif result[0][1] == 1:\n",
        "\tprediction = 'null'\n",
        "elif result[0][2] == 1:\n",
        "\tprediction = 'right'\n",
        "\n",
        "print(result)\n",
        "print(prediction)\n",
        "\n"
      ]
    },
    {
      "cell_type": "markdown",
      "metadata": {
        "id": "8wvopGFtfgbW"
      },
      "source": [
        "#Later in the project, we will use local runtimes to connect the photo to a local host so that the pyautogui functions can be used and programmatic control achieved. "
      ]
    }
  ],
  "metadata": {
    "colab": {
      "collapsed_sections": [
        "jr3kker3b0cF",
        "iGrpHKhGuLQW",
        "MM3lf5wVC-hM",
        "MXxUJcJcG9-e",
        "7EdueQXdGyXp",
        "ZH_efyHMKzfD",
        "YEC3EB8RHB1-"
      ],
      "name": "imageClassifier.ipynb",
      "provenance": []
    },
    "kernelspec": {
      "display_name": "Python 3",
      "language": "python",
      "name": "python3"
    },
    "language_info": {
      "codemirror_mode": {
        "name": "ipython",
        "version": 3
      },
      "file_extension": ".py",
      "mimetype": "text/x-python",
      "name": "python",
      "nbconvert_exporter": "python",
      "pygments_lexer": "ipython3",
      "version": "3.8.3"
    }
  },
  "nbformat": 4,
  "nbformat_minor": 0
}